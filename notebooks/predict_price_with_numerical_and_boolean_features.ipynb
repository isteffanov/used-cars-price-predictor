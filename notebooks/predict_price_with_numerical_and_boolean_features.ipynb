{
 "cells": [
  {
   "cell_type": "code",
   "execution_count": 1,
   "metadata": {},
   "outputs": [
    {
     "name": "stdout",
     "output_type": "stream",
     "text": [
      "/home/ivanstefanov/Repositories/used-cars-price-prediction\n"
     ]
    }
   ],
   "source": [
    "%cd .."
   ]
  },
  {
   "cell_type": "code",
   "execution_count": 2,
   "metadata": {},
   "outputs": [],
   "source": [
    "import pandas as pd"
   ]
  },
  {
   "cell_type": "code",
   "execution_count": 3,
   "metadata": {},
   "outputs": [],
   "source": [
    "from sklearn.model_selection import train_test_split\n",
    "from sklearn.linear_model import LinearRegression, LassoCV, RidgeCV\n",
    "from sklearn.tree import DecisionTreeRegressor"
   ]
  },
  {
   "cell_type": "code",
   "execution_count": 8,
   "metadata": {},
   "outputs": [],
   "source": [
    "from price_predictor.prepare_data import get_numerical_columns_only, split_features_target, boolean_to_numerical\n",
    "from price_predictor.evaluate import eval_rmse"
   ]
  },
  {
   "cell_type": "code",
   "execution_count": 16,
   "metadata": {},
   "outputs": [],
   "source": [
    "data_all = pd.read_csv('data/cars.csv')"
   ]
  },
  {
   "cell_type": "code",
   "execution_count": 17,
   "metadata": {},
   "outputs": [],
   "source": [
    "booleans = data_all.select_dtypes(bool).columns"
   ]
  },
  {
   "cell_type": "code",
   "execution_count": 18,
   "metadata": {},
   "outputs": [],
   "source": [
    "data_bool = boolean_to_numerical(data_all, booleans)"
   ]
  },
  {
   "cell_type": "code",
   "execution_count": 21,
   "metadata": {},
   "outputs": [
    {
     "data": {
      "text/html": [
       "<div>\n",
       "<style scoped>\n",
       "    .dataframe tbody tr th:only-of-type {\n",
       "        vertical-align: middle;\n",
       "    }\n",
       "\n",
       "    .dataframe tbody tr th {\n",
       "        vertical-align: top;\n",
       "    }\n",
       "\n",
       "    .dataframe thead th {\n",
       "        text-align: right;\n",
       "    }\n",
       "</style>\n",
       "<table border=\"1\" class=\"dataframe\">\n",
       "  <thead>\n",
       "    <tr style=\"text-align: right;\">\n",
       "      <th></th>\n",
       "      <th>odometer_value</th>\n",
       "      <th>year_produced</th>\n",
       "      <th>engine_capacity</th>\n",
       "      <th>price_usd</th>\n",
       "      <th>number_of_photos</th>\n",
       "      <th>up_counter</th>\n",
       "      <th>duration_listed</th>\n",
       "      <th>engine_has_gas</th>\n",
       "      <th>has_warranty</th>\n",
       "      <th>is_exchangeable</th>\n",
       "      <th>feature_0</th>\n",
       "      <th>feature_1</th>\n",
       "      <th>feature_2</th>\n",
       "      <th>feature_3</th>\n",
       "      <th>feature_4</th>\n",
       "      <th>feature_5</th>\n",
       "      <th>feature_6</th>\n",
       "      <th>feature_7</th>\n",
       "      <th>feature_8</th>\n",
       "      <th>feature_9</th>\n",
       "    </tr>\n",
       "  </thead>\n",
       "  <tbody>\n",
       "    <tr>\n",
       "      <th>0</th>\n",
       "      <td>190000</td>\n",
       "      <td>2010</td>\n",
       "      <td>2.5</td>\n",
       "      <td>10900.00</td>\n",
       "      <td>9</td>\n",
       "      <td>13</td>\n",
       "      <td>16</td>\n",
       "      <td>0</td>\n",
       "      <td>0</td>\n",
       "      <td>0</td>\n",
       "      <td>0</td>\n",
       "      <td>1</td>\n",
       "      <td>1</td>\n",
       "      <td>1</td>\n",
       "      <td>0</td>\n",
       "      <td>1</td>\n",
       "      <td>0</td>\n",
       "      <td>1</td>\n",
       "      <td>1</td>\n",
       "      <td>1</td>\n",
       "    </tr>\n",
       "    <tr>\n",
       "      <th>1</th>\n",
       "      <td>290000</td>\n",
       "      <td>2002</td>\n",
       "      <td>3.0</td>\n",
       "      <td>5000.00</td>\n",
       "      <td>12</td>\n",
       "      <td>54</td>\n",
       "      <td>83</td>\n",
       "      <td>0</td>\n",
       "      <td>0</td>\n",
       "      <td>1</td>\n",
       "      <td>0</td>\n",
       "      <td>1</td>\n",
       "      <td>0</td>\n",
       "      <td>0</td>\n",
       "      <td>1</td>\n",
       "      <td>1</td>\n",
       "      <td>0</td>\n",
       "      <td>0</td>\n",
       "      <td>0</td>\n",
       "      <td>1</td>\n",
       "    </tr>\n",
       "    <tr>\n",
       "      <th>2</th>\n",
       "      <td>402000</td>\n",
       "      <td>2001</td>\n",
       "      <td>2.5</td>\n",
       "      <td>2800.00</td>\n",
       "      <td>4</td>\n",
       "      <td>72</td>\n",
       "      <td>151</td>\n",
       "      <td>0</td>\n",
       "      <td>0</td>\n",
       "      <td>1</td>\n",
       "      <td>0</td>\n",
       "      <td>1</td>\n",
       "      <td>0</td>\n",
       "      <td>0</td>\n",
       "      <td>0</td>\n",
       "      <td>0</td>\n",
       "      <td>0</td>\n",
       "      <td>0</td>\n",
       "      <td>1</td>\n",
       "      <td>1</td>\n",
       "    </tr>\n",
       "    <tr>\n",
       "      <th>3</th>\n",
       "      <td>10000</td>\n",
       "      <td>1999</td>\n",
       "      <td>3.0</td>\n",
       "      <td>9999.00</td>\n",
       "      <td>9</td>\n",
       "      <td>42</td>\n",
       "      <td>86</td>\n",
       "      <td>0</td>\n",
       "      <td>0</td>\n",
       "      <td>1</td>\n",
       "      <td>1</td>\n",
       "      <td>0</td>\n",
       "      <td>0</td>\n",
       "      <td>0</td>\n",
       "      <td>0</td>\n",
       "      <td>0</td>\n",
       "      <td>0</td>\n",
       "      <td>0</td>\n",
       "      <td>0</td>\n",
       "      <td>0</td>\n",
       "    </tr>\n",
       "    <tr>\n",
       "      <th>4</th>\n",
       "      <td>280000</td>\n",
       "      <td>2001</td>\n",
       "      <td>2.5</td>\n",
       "      <td>2134.11</td>\n",
       "      <td>14</td>\n",
       "      <td>7</td>\n",
       "      <td>7</td>\n",
       "      <td>0</td>\n",
       "      <td>0</td>\n",
       "      <td>1</td>\n",
       "      <td>0</td>\n",
       "      <td>1</td>\n",
       "      <td>0</td>\n",
       "      <td>1</td>\n",
       "      <td>1</td>\n",
       "      <td>0</td>\n",
       "      <td>0</td>\n",
       "      <td>0</td>\n",
       "      <td>0</td>\n",
       "      <td>1</td>\n",
       "    </tr>\n",
       "    <tr>\n",
       "      <th>...</th>\n",
       "      <td>...</td>\n",
       "      <td>...</td>\n",
       "      <td>...</td>\n",
       "      <td>...</td>\n",
       "      <td>...</td>\n",
       "      <td>...</td>\n",
       "      <td>...</td>\n",
       "      <td>...</td>\n",
       "      <td>...</td>\n",
       "      <td>...</td>\n",
       "      <td>...</td>\n",
       "      <td>...</td>\n",
       "      <td>...</td>\n",
       "      <td>...</td>\n",
       "      <td>...</td>\n",
       "      <td>...</td>\n",
       "      <td>...</td>\n",
       "      <td>...</td>\n",
       "      <td>...</td>\n",
       "      <td>...</td>\n",
       "    </tr>\n",
       "    <tr>\n",
       "      <th>38526</th>\n",
       "      <td>290000</td>\n",
       "      <td>2000</td>\n",
       "      <td>3.5</td>\n",
       "      <td>2750.00</td>\n",
       "      <td>5</td>\n",
       "      <td>85</td>\n",
       "      <td>301</td>\n",
       "      <td>0</td>\n",
       "      <td>0</td>\n",
       "      <td>1</td>\n",
       "      <td>0</td>\n",
       "      <td>1</td>\n",
       "      <td>0</td>\n",
       "      <td>0</td>\n",
       "      <td>1</td>\n",
       "      <td>1</td>\n",
       "      <td>0</td>\n",
       "      <td>0</td>\n",
       "      <td>1</td>\n",
       "      <td>1</td>\n",
       "    </tr>\n",
       "    <tr>\n",
       "      <th>38527</th>\n",
       "      <td>321000</td>\n",
       "      <td>2004</td>\n",
       "      <td>2.2</td>\n",
       "      <td>4800.00</td>\n",
       "      <td>4</td>\n",
       "      <td>20</td>\n",
       "      <td>317</td>\n",
       "      <td>0</td>\n",
       "      <td>0</td>\n",
       "      <td>1</td>\n",
       "      <td>0</td>\n",
       "      <td>1</td>\n",
       "      <td>0</td>\n",
       "      <td>0</td>\n",
       "      <td>1</td>\n",
       "      <td>1</td>\n",
       "      <td>0</td>\n",
       "      <td>0</td>\n",
       "      <td>1</td>\n",
       "      <td>1</td>\n",
       "    </tr>\n",
       "    <tr>\n",
       "      <th>38528</th>\n",
       "      <td>777957</td>\n",
       "      <td>2000</td>\n",
       "      <td>3.5</td>\n",
       "      <td>4300.00</td>\n",
       "      <td>3</td>\n",
       "      <td>63</td>\n",
       "      <td>369</td>\n",
       "      <td>0</td>\n",
       "      <td>0</td>\n",
       "      <td>0</td>\n",
       "      <td>0</td>\n",
       "      <td>1</td>\n",
       "      <td>0</td>\n",
       "      <td>0</td>\n",
       "      <td>1</td>\n",
       "      <td>1</td>\n",
       "      <td>0</td>\n",
       "      <td>0</td>\n",
       "      <td>1</td>\n",
       "      <td>1</td>\n",
       "    </tr>\n",
       "    <tr>\n",
       "      <th>38529</th>\n",
       "      <td>20000</td>\n",
       "      <td>2001</td>\n",
       "      <td>2.0</td>\n",
       "      <td>4000.00</td>\n",
       "      <td>7</td>\n",
       "      <td>156</td>\n",
       "      <td>490</td>\n",
       "      <td>0</td>\n",
       "      <td>0</td>\n",
       "      <td>1</td>\n",
       "      <td>0</td>\n",
       "      <td>1</td>\n",
       "      <td>0</td>\n",
       "      <td>0</td>\n",
       "      <td>0</td>\n",
       "      <td>0</td>\n",
       "      <td>0</td>\n",
       "      <td>0</td>\n",
       "      <td>0</td>\n",
       "      <td>1</td>\n",
       "    </tr>\n",
       "    <tr>\n",
       "      <th>38530</th>\n",
       "      <td>297729</td>\n",
       "      <td>2000</td>\n",
       "      <td>2.4</td>\n",
       "      <td>3200.00</td>\n",
       "      <td>4</td>\n",
       "      <td>73</td>\n",
       "      <td>632</td>\n",
       "      <td>0</td>\n",
       "      <td>0</td>\n",
       "      <td>1</td>\n",
       "      <td>0</td>\n",
       "      <td>0</td>\n",
       "      <td>0</td>\n",
       "      <td>0</td>\n",
       "      <td>0</td>\n",
       "      <td>0</td>\n",
       "      <td>0</td>\n",
       "      <td>0</td>\n",
       "      <td>0</td>\n",
       "      <td>1</td>\n",
       "    </tr>\n",
       "  </tbody>\n",
       "</table>\n",
       "<p>38531 rows × 20 columns</p>\n",
       "</div>"
      ],
      "text/plain": [
       "       odometer_value  year_produced  engine_capacity  price_usd  \\\n",
       "0              190000           2010              2.5   10900.00   \n",
       "1              290000           2002              3.0    5000.00   \n",
       "2              402000           2001              2.5    2800.00   \n",
       "3               10000           1999              3.0    9999.00   \n",
       "4              280000           2001              2.5    2134.11   \n",
       "...               ...            ...              ...        ...   \n",
       "38526          290000           2000              3.5    2750.00   \n",
       "38527          321000           2004              2.2    4800.00   \n",
       "38528          777957           2000              3.5    4300.00   \n",
       "38529           20000           2001              2.0    4000.00   \n",
       "38530          297729           2000              2.4    3200.00   \n",
       "\n",
       "       number_of_photos  up_counter  duration_listed  engine_has_gas  \\\n",
       "0                     9          13               16               0   \n",
       "1                    12          54               83               0   \n",
       "2                     4          72              151               0   \n",
       "3                     9          42               86               0   \n",
       "4                    14           7                7               0   \n",
       "...                 ...         ...              ...             ...   \n",
       "38526                 5          85              301               0   \n",
       "38527                 4          20              317               0   \n",
       "38528                 3          63              369               0   \n",
       "38529                 7         156              490               0   \n",
       "38530                 4          73              632               0   \n",
       "\n",
       "       has_warranty  is_exchangeable  feature_0  feature_1  feature_2  \\\n",
       "0                 0                0          0          1          1   \n",
       "1                 0                1          0          1          0   \n",
       "2                 0                1          0          1          0   \n",
       "3                 0                1          1          0          0   \n",
       "4                 0                1          0          1          0   \n",
       "...             ...              ...        ...        ...        ...   \n",
       "38526             0                1          0          1          0   \n",
       "38527             0                1          0          1          0   \n",
       "38528             0                0          0          1          0   \n",
       "38529             0                1          0          1          0   \n",
       "38530             0                1          0          0          0   \n",
       "\n",
       "       feature_3  feature_4  feature_5  feature_6  feature_7  feature_8  \\\n",
       "0              1          0          1          0          1          1   \n",
       "1              0          1          1          0          0          0   \n",
       "2              0          0          0          0          0          1   \n",
       "3              0          0          0          0          0          0   \n",
       "4              1          1          0          0          0          0   \n",
       "...          ...        ...        ...        ...        ...        ...   \n",
       "38526          0          1          1          0          0          1   \n",
       "38527          0          1          1          0          0          1   \n",
       "38528          0          1          1          0          0          1   \n",
       "38529          0          0          0          0          0          0   \n",
       "38530          0          0          0          0          0          0   \n",
       "\n",
       "       feature_9  \n",
       "0              1  \n",
       "1              1  \n",
       "2              1  \n",
       "3              0  \n",
       "4              1  \n",
       "...          ...  \n",
       "38526          1  \n",
       "38527          1  \n",
       "38528          1  \n",
       "38529          1  \n",
       "38530          1  \n",
       "\n",
       "[38531 rows x 20 columns]"
      ]
     },
     "execution_count": 21,
     "metadata": {},
     "output_type": "execute_result"
    }
   ],
   "source": [
    "data = get_numerical_columns_only(data_all)\n",
    "data = pd.concat([data, data_bool], axis=1)\n",
    "data"
   ]
  },
  {
   "cell_type": "code",
   "execution_count": 22,
   "metadata": {},
   "outputs": [
    {
     "data": {
      "text/plain": [
       "Index(['odometer_value', 'year_produced', 'engine_capacity', 'price_usd',\n",
       "       'number_of_photos', 'up_counter', 'duration_listed', 'engine_has_gas',\n",
       "       'has_warranty', 'is_exchangeable', 'feature_0', 'feature_1',\n",
       "       'feature_2', 'feature_3', 'feature_4', 'feature_5', 'feature_6',\n",
       "       'feature_7', 'feature_8', 'feature_9'],\n",
       "      dtype='object')"
      ]
     },
     "execution_count": 22,
     "metadata": {},
     "output_type": "execute_result"
    }
   ],
   "source": [
    "data.columns"
   ]
  },
  {
   "cell_type": "code",
   "execution_count": 23,
   "metadata": {},
   "outputs": [],
   "source": [
    "data.dropna(inplace=True)"
   ]
  },
  {
   "cell_type": "code",
   "execution_count": 24,
   "metadata": {},
   "outputs": [],
   "source": [
    "train_valid_data, test_data = train_test_split(data)\n",
    "train_data, valid_data = train_test_split(train_valid_data, random_state=42)"
   ]
  },
  {
   "cell_type": "code",
   "execution_count": 25,
   "metadata": {},
   "outputs": [],
   "source": [
    "train_features, train_target = split_features_target(train_data, 'price_usd')\n",
    "valid_features, valid_target = split_features_target(valid_data, 'price_usd')\n",
    "test_features, test_target = split_features_target(test_data, 'price_usd')"
   ]
  },
  {
   "cell_type": "code",
   "execution_count": 26,
   "metadata": {},
   "outputs": [],
   "source": [
    "lr = LinearRegression()\n",
    "lr.fit(train_features, train_target);"
   ]
  },
  {
   "cell_type": "code",
   "execution_count": 27,
   "metadata": {},
   "outputs": [
    {
     "data": {
      "text/plain": [
       "0.6744755664175786"
      ]
     },
     "execution_count": 27,
     "metadata": {},
     "output_type": "execute_result"
    }
   ],
   "source": [
    "lr.score(valid_features, valid_target)"
   ]
  },
  {
   "cell_type": "code",
   "execution_count": 28,
   "metadata": {},
   "outputs": [],
   "source": [
    "lasso = LassoCV(alphas=[0.001, 0.01, 0.1, 1, 10, 100, 1000])\n",
    "lasso.fit(train_features, train_target);"
   ]
  },
  {
   "cell_type": "code",
   "execution_count": 29,
   "metadata": {},
   "outputs": [
    {
     "data": {
      "text/plain": [
       "0.674468958242094"
      ]
     },
     "execution_count": 29,
     "metadata": {},
     "output_type": "execute_result"
    }
   ],
   "source": [
    "lasso.score(valid_features, valid_target)"
   ]
  },
  {
   "cell_type": "code",
   "execution_count": 30,
   "metadata": {},
   "outputs": [],
   "source": [
    "ridge = RidgeCV(alphas=[0.001, 0.01, 0.1, 1, 10, 100, 1000])\n",
    "ridge.fit(train_features, train_target);"
   ]
  },
  {
   "cell_type": "code",
   "execution_count": 31,
   "metadata": {},
   "outputs": [
    {
     "data": {
      "text/plain": [
       "0.6730423407343471"
      ]
     },
     "execution_count": 31,
     "metadata": {},
     "output_type": "execute_result"
    }
   ],
   "source": [
    "ridge.score(valid_features, valid_target)"
   ]
  },
  {
   "cell_type": "code",
   "execution_count": null,
   "metadata": {},
   "outputs": [],
   "source": []
  }
 ],
 "metadata": {
  "kernelspec": {
   "display_name": "Python 3.10.7 64-bit ('har')",
   "language": "python",
   "name": "python3"
  },
  "language_info": {
   "codemirror_mode": {
    "name": "ipython",
    "version": 3
   },
   "file_extension": ".py",
   "mimetype": "text/x-python",
   "name": "python",
   "nbconvert_exporter": "python",
   "pygments_lexer": "ipython3",
   "version": "3.10.7"
  },
  "orig_nbformat": 4,
  "vscode": {
   "interpreter": {
    "hash": "b6af01bd55259901daef054f7761196aeb0b1e4ba814cd23d02d62b0b477853b"
   }
  }
 },
 "nbformat": 4,
 "nbformat_minor": 2
}
